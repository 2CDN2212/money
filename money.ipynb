{
  "nbformat": 4,
  "nbformat_minor": 0,
  "metadata": {
    "colab": {
      "provenance": []
    },
    "kernelspec": {
      "name": "python3",
      "display_name": "Python 3"
    },
    "language_info": {
      "name": "python"
    }
  },
  "cells": [
    {
      "cell_type": "code",
      "execution_count": 9,
      "metadata": {
        "colab": {
          "base_uri": "https://localhost:8080/"
        },
        "id": "8-eOR-cVMdbM",
        "outputId": "8ad0eda6-3e35-4ff5-d15f-306717c8dab5"
      },
      "outputs": [
        {
          "output_type": "stream",
          "name": "stdout",
          "text": [
            "自販機にいくらいれますか：500\n",
            "買いたい商品はいくらですか：180\n",
            "おつりは、５００円：0枚、１００円：3枚、５０円：0枚、１０円：2枚\n"
          ]
        }
      ],
      "source": [
        "n = int(input(\"自販機にいくらいれますか：\"))\n",
        "x = int(input(\"買いたい商品はいくらですか：\"))\n",
        "m = n - x\n",
        "\n",
        "if n % 10 == 0:\n",
        "    if n > x:\n",
        "        a1 = m // 500\n",
        "        m1 = m % 500\n",
        "        a2 = m1 //100\n",
        "        m2 = m1 % 100\n",
        "        a3 = m2 // 50\n",
        "        m3 = m2 % 50\n",
        "        a4 = m3 //10\n",
        "\n",
        "        print(f\"おつりは、５００円：{a1}枚、１００円：{a2}枚、５０円：{a3}枚、１０円：{a4}枚\")\n",
        "\n",
        "    else:\n",
        "        print(\"金額が足りません\")\n",
        "\n",
        "else:\n",
        "    print(\"自販機で1円は使えません\")"
      ]
    }
  ]
}